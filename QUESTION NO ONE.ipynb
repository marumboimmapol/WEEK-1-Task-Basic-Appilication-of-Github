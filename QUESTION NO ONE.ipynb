{
 "cells": [
  {
   "cell_type": "code",
   "execution_count": 1,
   "id": "b132ace1-2ddf-497c-a1b7-b7ddd5e4bb39",
   "metadata": {},
   "outputs": [],
   "source": [
    "#QUESTION NUMBER ONE\n",
    "\n",
    "#PYTHON CODES FOR IDENTIFYING A LEAP YEAR IN A GREGORIAN CALENDAR"
   ]
  },
  {
   "cell_type": "code",
   "execution_count": null,
   "id": "1b142d7b-5af1-48e3-a6fa-8af5395d40db",
   "metadata": {},
   "outputs": [],
   "source": [
    "def is_leap(year):  \n",
    "    leap = False  \n",
    "    \n",
    "    # To Check if the year is divisible by 4  \n",
    "    if year % 4 == 0:  \n",
    "        # To Check if the year is a century year  \n",
    "        if year % 100 == 0:  \n",
    "            # Check if it is divisible by 400  \n",
    "            if year % 400 == 0:  \n",
    "                leap = True  # this is a leap year  \n",
    "            else:  \n",
    "                leap = False  # It is not a leap year  \n",
    "        else:  \n",
    "            leap = True  # this is a leap year  \n",
    "    else:  \n",
    "        leap = False  # it is not a leap year  \n",
    "\n",
    "    return leap  \n",
    "\n",
    "# Input year from the user to chek if is a leap year\n",
    "year = int(input(\"Enter a year: \"))  \n",
    "# Output the result of the leap year check as   when it is a leap year it returns true otherwise false\n",
    "print(is_leap(year))"
   ]
  },
  {
   "cell_type": "markdown",
   "id": "77df53ea-3927-4e0c-bae7-8b94a9873655",
   "metadata": {},
   "source": []
  },
  {
   "cell_type": "code",
   "execution_count": null,
   "id": "9a672bfe-db41-4975-8aaf-0403666999e5",
   "metadata": {},
   "outputs": [],
   "source": []
  },
  {
   "cell_type": "code",
   "execution_count": null,
   "id": "d7568747-302b-4f2c-8b40-289a76423d9f",
   "metadata": {},
   "outputs": [],
   "source": []
  }
 ],
 "metadata": {
  "kernelspec": {
   "display_name": "Python 3 (ipykernel)",
   "language": "python",
   "name": "python3"
  },
  "language_info": {
   "codemirror_mode": {
    "name": "ipython",
    "version": 3
   },
   "file_extension": ".py",
   "mimetype": "text/x-python",
   "name": "python",
   "nbconvert_exporter": "python",
   "pygments_lexer": "ipython3",
   "version": "3.12.4"
  }
 },
 "nbformat": 4,
 "nbformat_minor": 5
}
